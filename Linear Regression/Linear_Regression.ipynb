{
  "nbformat": 4,
  "nbformat_minor": 0,
  "metadata": {
    "colab": {
      "provenance": [],
      "authorship_tag": "ABX9TyOP19CV3uczMWsZ6jN5vONv",
      "include_colab_link": true
    },
    "kernelspec": {
      "name": "python3",
      "display_name": "Python 3"
    },
    "language_info": {
      "name": "python"
    }
  },
  "cells": [
    {
      "cell_type": "markdown",
      "metadata": {
        "id": "view-in-github",
        "colab_type": "text"
      },
      "source": [
        "<a href=\"https://colab.research.google.com/github/Ishikaaa/Machine-Learning-Algorithms/blob/main/Linear_Regression.ipynb\" target=\"_parent\"><img src=\"https://colab.research.google.com/assets/colab-badge.svg\" alt=\"Open In Colab\"/></a>"
      ]
    },
    {
      "cell_type": "code",
      "source": [
        "import numpy as np\n",
        "\n",
        "class LinearRegressionModel:\n",
        "    def __init__(self, learning_rate=0.01, num_iterations=1000):\n",
        "        self.learning_rate = learning_rate\n",
        "        self.num_iterations = num_iterations\n",
        "        self.weight = None                # slope (m)\n",
        "        self.bias = None                  # intercept (c)\n",
        "\n",
        "    def gradient_weight(self, features, targets, predictions):\n",
        "        n_samples = len(features)\n",
        "        return (-2 / n_samples) * np.sum(features * (targets - predictions))\n",
        "\n",
        "    def gradient_bias(self, targets, predictions):\n",
        "        n_samples = len(targets)\n",
        "        return (-2 / n_samples) * np.sum(targets - predictions)\n",
        "\n",
        "    def loss_function(self, targets, predictions):\n",
        "        \"\"\"\n",
        "        Mean Squared Error Loss\n",
        "        \"\"\"\n",
        "        n_samples = len(targets)\n",
        "        return np.sum((targets - predictions) ** 2) / n_samples\n",
        "\n",
        "    def predict(self, features):\n",
        "        return self.weight * features + self.bias\n",
        "\n",
        "    def fit(self, features, targets):\n",
        "        self.weight = np.random.randn()\n",
        "        self.bias = np.random.randn()\n",
        "\n",
        "        for _ in range(self.num_iterations):\n",
        "            predictions = self.predict(features)\n",
        "            weight_gradient = self.gradient_weight(features, targets, predictions)\n",
        "            bias_gradient = self.gradient_bias(targets, predictions)\n",
        "            self.weight -= self.learning_rate * weight_gradient\n",
        "            self.bias -= self.learning_rate * bias_gradient\n"
      ],
      "metadata": {
        "id": "TWlDsvjv53qd"
      },
      "execution_count": 1,
      "outputs": []
    },
    {
      "cell_type": "code",
      "source": [
        "X = np.array([1, 2, 3, 4, 5])\n",
        "y = np.array([2, 4, 5, 4, 5])\n",
        "\n",
        "model = LinearRegressionModel(learning_rate=0.01, num_iterations=1000)\n",
        "model.fit(X, y)\n",
        "\n",
        "predictions = model.predict(X)\n",
        "print(\"Final Weight (Slope):\", model.weight)\n",
        "print(\"Final Bias (Intercept):\", model.bias)\n",
        "print(\"Predictions:\", predictions)"
      ],
      "metadata": {
        "id": "L57qDbT_58vq"
      },
      "execution_count": null,
      "outputs": []
    }
  ]
}
